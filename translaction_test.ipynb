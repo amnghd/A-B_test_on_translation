{
 "cells": [
  {
   "cell_type": "markdown",
   "metadata": {
    "slideshow": {
     "slide_type": "slide"
    }
   },
   "source": [
    "## <font color='navy'>Data Challenge Description</font>\n",
    "\n",
    "A data scientist at company XYZ noticed that France-based users have a **much higher conversion rate** than any other French-speaking country. She therefore went and talked to the international team in charge of France And French-speaking countries to see if they had any ideas about why that was happening.\n",
    "\n",
    "The France and French-speaking countries manager suggested that **one reason could be the translation**. All French-speaking countries had the same translation of the site which was written by a French person. They agreed to try a **test where each country would have its one translation written by a local**. That is, Moroccan users would see a translation written by a Moroccan, Canadian user by a Canadian, and so on. Obviously, nothing would change for users from France\n",
    "After they run the test, however, they are really surprised as the test is **negative**. That is, it appears that the non-localized translation was doing better!"
   ]
  },
  {
   "cell_type": "markdown",
   "metadata": {
    "slideshow": {
     "slide_type": "subslide"
    }
   },
   "source": [
    "You are asked to:\n",
    "1.\tReproduce the original negative result. **<font color='teal'>Is it actually negative?</font>**\n",
    "2.\tExplain why that might be happening. **<font color='teal'>Are the localized translations really worse?</font>**\n",
    "3.\tIf you identified what was wrong, design an algorithm that would return FALSE if the same problem is happening in the future and TRUE if everything is good and the results can be trusted."
   ]
  },
  {
   "cell_type": "markdown",
   "metadata": {
    "slideshow": {
     "slide_type": "slide"
    }
   },
   "source": [
    "## <font color='navy'>ِDatasets and Variables</font>\n",
    "\n",
    "**test_data_table(browsing behavior data)**\n",
    "\n",
    "- ``user_id``: the id of the user.\n",
    "- ``date``: when they came to the site\n",
    "- ``source``: marketing channel\n",
    "- ``device``: device used by the user.\n",
    "- ``browser_language``: in browser or app settings, the language chosen by the user. It can be EN, FR, Other (Other means any language except for English and French) \n",
    "- ``ads_channel``: if marketing channel is ads, this is the site where the ad was displayed.\n",
    "- ``browser``: user browser.\n",
    "- ``conversion``: whether the user converted (1) or not (0). **A test is considered successful if it increases the proportion of users who convert.** \n",
    "- ``test``: users are randomly split into test (1) and control (0). Test users see the new translation and control the old one."
   ]
  },
  {
   "cell_type": "markdown",
   "metadata": {
    "slideshow": {
     "slide_type": "subslide"
    }
   },
   "source": [
    "**user_data_table(demographic_data)**\n",
    "- ``user_id``: the id of the user. It can be joined to user id in the other table\n",
    "- ``sex``: user sex: Male or Female\n",
    "- ``age``: user age (self-reported)\n",
    "- ``country``: user country based on IP address"
   ]
  },
  {
   "cell_type": "markdown",
   "metadata": {
    "slideshow": {
     "slide_type": "skip"
    }
   },
   "source": [
    "## <font color='navy'>ِRequired libraries</font>"
   ]
  },
  {
   "cell_type": "code",
   "execution_count": 1,
   "metadata": {
    "slideshow": {
     "slide_type": "skip"
    }
   },
   "outputs": [],
   "source": [
    "import pandas as pd # for data manipulation\n",
    "import matplotlib.pyplot as plt # for visualization purposes\n",
    "from scipy.stats import chi2_contingency # to perform chi-square test\n",
    "from statsmodels.graphics.mosaicplot import mosaic # to perfomr VEDA between categorical variables\n",
    "import numpy as np\n",
    "import seaborn as sns\n",
    "sns.set() # inline plots with seaborn style"
   ]
  },
  {
   "cell_type": "code",
   "execution_count": 2,
   "metadata": {
    "slideshow": {
     "slide_type": "skip"
    }
   },
   "outputs": [],
   "source": [
    "from matplotlib.pyplot import rcParams\n",
    "rcParams['figure.figsize'] = 12,6"
   ]
  },
  {
   "cell_type": "markdown",
   "metadata": {
    "slideshow": {
     "slide_type": "slide"
    }
   },
   "source": [
    "## <font color='navy'>Importing Data</font>"
   ]
  },
  {
   "cell_type": "code",
   "execution_count": 3,
   "metadata": {
    "slideshow": {
     "slide_type": "fragment"
    }
   },
   "outputs": [],
   "source": [
    "test = pd.read_csv('test_data_table.csv') # importing browsing behavior data\n",
    "ID = pd.read_csv('user_data_table.csv') # importing demographic information."
   ]
  },
  {
   "cell_type": "code",
   "execution_count": 4,
   "metadata": {
    "slideshow": {
     "slide_type": "slide"
    }
   },
   "outputs": [
    {
     "data": {
      "text/html": [
       "<div>\n",
       "<style scoped>\n",
       "    .dataframe tbody tr th:only-of-type {\n",
       "        vertical-align: middle;\n",
       "    }\n",
       "\n",
       "    .dataframe tbody tr th {\n",
       "        vertical-align: top;\n",
       "    }\n",
       "\n",
       "    .dataframe thead th {\n",
       "        text-align: right;\n",
       "    }\n",
       "</style>\n",
       "<table border=\"1\" class=\"dataframe\">\n",
       "  <thead>\n",
       "    <tr style=\"text-align: right;\">\n",
       "      <th></th>\n",
       "      <th>user_id</th>\n",
       "      <th>date</th>\n",
       "      <th>source</th>\n",
       "      <th>device</th>\n",
       "      <th>browser_language</th>\n",
       "      <th>ads_channel</th>\n",
       "      <th>browser</th>\n",
       "      <th>conversion</th>\n",
       "      <th>test</th>\n",
       "    </tr>\n",
       "  </thead>\n",
       "  <tbody>\n",
       "    <tr>\n",
       "      <th>0</th>\n",
       "      <td>315281</td>\n",
       "      <td>2015-12-03</td>\n",
       "      <td>Direct</td>\n",
       "      <td>Web</td>\n",
       "      <td>FR</td>\n",
       "      <td>NaN</td>\n",
       "      <td>IE</td>\n",
       "      <td>1</td>\n",
       "      <td>0</td>\n",
       "    </tr>\n",
       "    <tr>\n",
       "      <th>1</th>\n",
       "      <td>497851</td>\n",
       "      <td>2015-12-04</td>\n",
       "      <td>Ads</td>\n",
       "      <td>Web</td>\n",
       "      <td>FR</td>\n",
       "      <td>Google</td>\n",
       "      <td>IE</td>\n",
       "      <td>0</td>\n",
       "      <td>1</td>\n",
       "    </tr>\n",
       "    <tr>\n",
       "      <th>2</th>\n",
       "      <td>848402</td>\n",
       "      <td>2015-12-04</td>\n",
       "      <td>Ads</td>\n",
       "      <td>Web</td>\n",
       "      <td>FR</td>\n",
       "      <td>Facebook</td>\n",
       "      <td>Chrome</td>\n",
       "      <td>0</td>\n",
       "      <td>0</td>\n",
       "    </tr>\n",
       "    <tr>\n",
       "      <th>3</th>\n",
       "      <td>290051</td>\n",
       "      <td>2015-12-03</td>\n",
       "      <td>Ads</td>\n",
       "      <td>Mobile</td>\n",
       "      <td>Other</td>\n",
       "      <td>Facebook</td>\n",
       "      <td>Android_App</td>\n",
       "      <td>0</td>\n",
       "      <td>1</td>\n",
       "    </tr>\n",
       "    <tr>\n",
       "      <th>4</th>\n",
       "      <td>548435</td>\n",
       "      <td>2015-11-30</td>\n",
       "      <td>Ads</td>\n",
       "      <td>Web</td>\n",
       "      <td>FR</td>\n",
       "      <td>Google</td>\n",
       "      <td>FireFox</td>\n",
       "      <td>0</td>\n",
       "      <td>1</td>\n",
       "    </tr>\n",
       "  </tbody>\n",
       "</table>\n",
       "</div>"
      ],
      "text/plain": [
       "   user_id        date  source  device browser_language ads_channel  \\\n",
       "0   315281  2015-12-03  Direct     Web               FR         NaN   \n",
       "1   497851  2015-12-04     Ads     Web               FR      Google   \n",
       "2   848402  2015-12-04     Ads     Web               FR    Facebook   \n",
       "3   290051  2015-12-03     Ads  Mobile            Other    Facebook   \n",
       "4   548435  2015-11-30     Ads     Web               FR      Google   \n",
       "\n",
       "       browser  conversion  test  \n",
       "0           IE           1     0  \n",
       "1           IE           0     1  \n",
       "2       Chrome           0     0  \n",
       "3  Android_App           0     1  \n",
       "4      FireFox           0     1  "
      ]
     },
     "execution_count": 4,
     "metadata": {},
     "output_type": "execute_result"
    }
   ],
   "source": [
    "test.head() # seeing a lookg at first five rows of the browsing behaviour"
   ]
  },
  {
   "cell_type": "markdown",
   "metadata": {
    "slideshow": {
     "slide_type": "skip"
    }
   },
   "source": [
    "There is a date in the data set, I like to bring it to datetime format so that I can use the time-series functionality of pandas in my EDA."
   ]
  },
  {
   "cell_type": "code",
   "execution_count": 5,
   "metadata": {
    "slideshow": {
     "slide_type": "skip"
    }
   },
   "outputs": [],
   "source": [
    "test['date'] = pd.to_datetime(test['date'],infer_datetime_format=True)"
   ]
  },
  {
   "cell_type": "code",
   "execution_count": 6,
   "metadata": {
    "slideshow": {
     "slide_type": "fragment"
    }
   },
   "outputs": [
    {
     "data": {
      "text/html": [
       "<div>\n",
       "<style scoped>\n",
       "    .dataframe tbody tr th:only-of-type {\n",
       "        vertical-align: middle;\n",
       "    }\n",
       "\n",
       "    .dataframe tbody tr th {\n",
       "        vertical-align: top;\n",
       "    }\n",
       "\n",
       "    .dataframe thead th {\n",
       "        text-align: right;\n",
       "    }\n",
       "</style>\n",
       "<table border=\"1\" class=\"dataframe\">\n",
       "  <thead>\n",
       "    <tr style=\"text-align: right;\">\n",
       "      <th></th>\n",
       "      <th>user_id</th>\n",
       "      <th>sex</th>\n",
       "      <th>age</th>\n",
       "      <th>country</th>\n",
       "    </tr>\n",
       "  </thead>\n",
       "  <tbody>\n",
       "    <tr>\n",
       "      <th>0</th>\n",
       "      <td>765821</td>\n",
       "      <td>M</td>\n",
       "      <td>20</td>\n",
       "      <td>Democratic Republic of the Congo</td>\n",
       "    </tr>\n",
       "    <tr>\n",
       "      <th>1</th>\n",
       "      <td>343561</td>\n",
       "      <td>F</td>\n",
       "      <td>27</td>\n",
       "      <td>Luxembourg</td>\n",
       "    </tr>\n",
       "    <tr>\n",
       "      <th>2</th>\n",
       "      <td>118744</td>\n",
       "      <td>M</td>\n",
       "      <td>23</td>\n",
       "      <td>Canada</td>\n",
       "    </tr>\n",
       "    <tr>\n",
       "      <th>3</th>\n",
       "      <td>987753</td>\n",
       "      <td>F</td>\n",
       "      <td>27</td>\n",
       "      <td>Switzerland</td>\n",
       "    </tr>\n",
       "    <tr>\n",
       "      <th>4</th>\n",
       "      <td>554597</td>\n",
       "      <td>F</td>\n",
       "      <td>20</td>\n",
       "      <td>France</td>\n",
       "    </tr>\n",
       "  </tbody>\n",
       "</table>\n",
       "</div>"
      ],
      "text/plain": [
       "   user_id sex  age                           country\n",
       "0   765821   M   20  Democratic Republic of the Congo\n",
       "1   343561   F   27                        Luxembourg\n",
       "2   118744   M   23                            Canada\n",
       "3   987753   F   27                       Switzerland\n",
       "4   554597   F   20                            France"
      ]
     },
     "execution_count": 6,
     "metadata": {},
     "output_type": "execute_result"
    }
   ],
   "source": [
    "ID.head() # taking a look at first five rows of ID"
   ]
  },
  {
   "cell_type": "markdown",
   "metadata": {
    "slideshow": {
     "slide_type": "skip"
    }
   },
   "source": [
    "I like to join the data sets together to have a comprehenssive data set to work on. This simplifies the EDA and saves times. We need to join on test data as it is the data we want to analyze and we'd like to keep all of its ids. Before joining, let's quickly check if IDs match between the two data sets.\n",
    "\n",
    "I want to see how many users in test set have demographic data?"
   ]
  },
  {
   "cell_type": "markdown",
   "metadata": {
    "slideshow": {
     "slide_type": "slide"
    }
   },
   "source": [
    "## <font color='navy'>Joining Tables</font>"
   ]
  },
  {
   "cell_type": "code",
   "execution_count": 7,
   "metadata": {
    "slideshow": {
     "slide_type": "subslide"
    }
   },
   "outputs": [
    {
     "name": "stdout",
     "output_type": "stream",
     "text": [
      "0.1 % of the users in test data set don't have demographic info\n"
     ]
    }
   ],
   "source": [
    "test_ids = set(test.user_id) # user ids in behavioral data set\n",
    "id_ids = set(ID.user_id) # user ids in demographic data set \n",
    "non_identified_users = test_ids - id_ids\n",
    "non_identified_ratio = round(len(non_identified_users)/len(test_ids)*100,3)\n",
    "print(\"{} % of the users in test data set don't have demographic info\".format(non_identified_ratio))"
   ]
  },
  {
   "cell_type": "markdown",
   "metadata": {
    "slideshow": {
     "slide_type": "fragment"
    }
   },
   "source": [
    "**<font color='maroon'>Request product engineers to explore the cause.</font>**"
   ]
  },
  {
   "cell_type": "code",
   "execution_count": 8,
   "metadata": {
    "slideshow": {
     "slide_type": "fragment"
    }
   },
   "outputs": [
    {
     "data": {
      "text/html": [
       "<div>\n",
       "<style scoped>\n",
       "    .dataframe tbody tr th:only-of-type {\n",
       "        vertical-align: middle;\n",
       "    }\n",
       "\n",
       "    .dataframe tbody tr th {\n",
       "        vertical-align: top;\n",
       "    }\n",
       "\n",
       "    .dataframe thead th {\n",
       "        text-align: right;\n",
       "    }\n",
       "</style>\n",
       "<table border=\"1\" class=\"dataframe\">\n",
       "  <thead>\n",
       "    <tr style=\"text-align: right;\">\n",
       "      <th></th>\n",
       "      <th>user_id</th>\n",
       "      <th>date</th>\n",
       "      <th>source</th>\n",
       "      <th>device</th>\n",
       "      <th>browser_language</th>\n",
       "      <th>ads_channel</th>\n",
       "      <th>browser</th>\n",
       "      <th>conversion</th>\n",
       "      <th>test</th>\n",
       "      <th>sex</th>\n",
       "      <th>age</th>\n",
       "      <th>country</th>\n",
       "    </tr>\n",
       "  </thead>\n",
       "  <tbody>\n",
       "    <tr>\n",
       "      <th>0</th>\n",
       "      <td>315281</td>\n",
       "      <td>2015-12-03</td>\n",
       "      <td>Direct</td>\n",
       "      <td>Web</td>\n",
       "      <td>FR</td>\n",
       "      <td>NaN</td>\n",
       "      <td>IE</td>\n",
       "      <td>1</td>\n",
       "      <td>0</td>\n",
       "      <td>M</td>\n",
       "      <td>32.0</td>\n",
       "      <td>France</td>\n",
       "    </tr>\n",
       "    <tr>\n",
       "      <th>1</th>\n",
       "      <td>497851</td>\n",
       "      <td>2015-12-04</td>\n",
       "      <td>Ads</td>\n",
       "      <td>Web</td>\n",
       "      <td>FR</td>\n",
       "      <td>Google</td>\n",
       "      <td>IE</td>\n",
       "      <td>0</td>\n",
       "      <td>1</td>\n",
       "      <td>M</td>\n",
       "      <td>21.0</td>\n",
       "      <td>Democratic Republic of the Congo</td>\n",
       "    </tr>\n",
       "    <tr>\n",
       "      <th>2</th>\n",
       "      <td>848402</td>\n",
       "      <td>2015-12-04</td>\n",
       "      <td>Ads</td>\n",
       "      <td>Web</td>\n",
       "      <td>FR</td>\n",
       "      <td>Facebook</td>\n",
       "      <td>Chrome</td>\n",
       "      <td>0</td>\n",
       "      <td>0</td>\n",
       "      <td>M</td>\n",
       "      <td>34.0</td>\n",
       "      <td>France</td>\n",
       "    </tr>\n",
       "    <tr>\n",
       "      <th>3</th>\n",
       "      <td>290051</td>\n",
       "      <td>2015-12-03</td>\n",
       "      <td>Ads</td>\n",
       "      <td>Mobile</td>\n",
       "      <td>Other</td>\n",
       "      <td>Facebook</td>\n",
       "      <td>Android_App</td>\n",
       "      <td>0</td>\n",
       "      <td>1</td>\n",
       "      <td>F</td>\n",
       "      <td>22.0</td>\n",
       "      <td>Democratic Republic of the Congo</td>\n",
       "    </tr>\n",
       "    <tr>\n",
       "      <th>4</th>\n",
       "      <td>548435</td>\n",
       "      <td>2015-11-30</td>\n",
       "      <td>Ads</td>\n",
       "      <td>Web</td>\n",
       "      <td>FR</td>\n",
       "      <td>Google</td>\n",
       "      <td>FireFox</td>\n",
       "      <td>0</td>\n",
       "      <td>1</td>\n",
       "      <td>M</td>\n",
       "      <td>19.0</td>\n",
       "      <td>Democratic Republic of the Congo</td>\n",
       "    </tr>\n",
       "  </tbody>\n",
       "</table>\n",
       "</div>"
      ],
      "text/plain": [
       "   user_id       date  source  device browser_language ads_channel  \\\n",
       "0   315281 2015-12-03  Direct     Web               FR         NaN   \n",
       "1   497851 2015-12-04     Ads     Web               FR      Google   \n",
       "2   848402 2015-12-04     Ads     Web               FR    Facebook   \n",
       "3   290051 2015-12-03     Ads  Mobile            Other    Facebook   \n",
       "4   548435 2015-11-30     Ads     Web               FR      Google   \n",
       "\n",
       "       browser  conversion  test sex   age                           country  \n",
       "0           IE           1     0   M  32.0                            France  \n",
       "1           IE           0     1   M  21.0  Democratic Republic of the Congo  \n",
       "2       Chrome           0     0   M  34.0                            France  \n",
       "3  Android_App           0     1   F  22.0  Democratic Republic of the Congo  \n",
       "4      FireFox           0     1   M  19.0  Democratic Republic of the Congo  "
      ]
     },
     "execution_count": 8,
     "metadata": {},
     "output_type": "execute_result"
    }
   ],
   "source": [
    "test_id = test.merge(ID, on='user_id', how='left')\n",
    "test_id.head()"
   ]
  },
  {
   "cell_type": "code",
   "execution_count": 9,
   "metadata": {
    "slideshow": {
     "slide_type": "skip"
    }
   },
   "outputs": [],
   "source": [
    "test_id['country'] = test_id['country'].str.replace(\"Democratic Republic of the Congo\",\"Congo\")\\\n",
    ".replace(\"Republic of the Congo\",\"Congo\")"
   ]
  },
  {
   "cell_type": "markdown",
   "metadata": {
    "slideshow": {
     "slide_type": "slide"
    }
   },
   "source": [
    "## <font color='navy'>Exploratory Data Analysis</font>"
   ]
  },
  {
   "cell_type": "markdown",
   "metadata": {
    "slideshow": {
     "slide_type": "fragment"
    }
   },
   "source": [
    "**<font color='teal'>shape:</font>**"
   ]
  },
  {
   "cell_type": "code",
   "execution_count": 10,
   "metadata": {
    "slideshow": {
     "slide_type": "fragment"
    }
   },
   "outputs": [
    {
     "name": "stdout",
     "output_type": "stream",
     "text": [
      " Test Data has 453321 rows and 12 columns.\n"
     ]
    }
   ],
   "source": [
    "print(\" Test Data has {0} rows and {1} columns.\".format(test_id.shape[0],test_id.shape[1]))"
   ]
  },
  {
   "cell_type": "markdown",
   "metadata": {
    "slideshow": {
     "slide_type": "subslide"
    }
   },
   "source": [
    "**<font color='teal'>summary:</font>**"
   ]
  },
  {
   "cell_type": "code",
   "execution_count": 11,
   "metadata": {
    "slideshow": {
     "slide_type": "fragment"
    }
   },
   "outputs": [
    {
     "name": "stdout",
     "output_type": "stream",
     "text": [
      "<class 'pandas.core.frame.DataFrame'>\n",
      "Int64Index: 453321 entries, 0 to 453320\n",
      "Data columns (total 12 columns):\n",
      "user_id             453321 non-null int64\n",
      "date                453321 non-null datetime64[ns]\n",
      "source              453321 non-null object\n",
      "device              453321 non-null object\n",
      "browser_language    453321 non-null object\n",
      "ads_channel         181877 non-null object\n",
      "browser             453321 non-null object\n",
      "conversion          453321 non-null int64\n",
      "test                453321 non-null int64\n",
      "sex                 452867 non-null object\n",
      "age                 452867 non-null float64\n",
      "country             452867 non-null object\n",
      "dtypes: datetime64[ns](1), float64(1), int64(3), object(7)\n",
      "memory usage: 45.0+ MB\n"
     ]
    }
   ],
   "source": [
    "test_id.info() # seeing the number of objects and the number of null values"
   ]
  },
  {
   "cell_type": "markdown",
   "metadata": {
    "slideshow": {
     "slide_type": "fragment"
    }
   },
   "source": [
    "**<font color='purple'>observation:</font>**\n",
    "\n",
    "- ``sex``,``age``, ``country`` have missing values. These are the demographic data that wasn't joined from the ID table as they didnt have a correspoding ID ($<0.1\\%$)."
   ]
  },
  {
   "cell_type": "markdown",
   "metadata": {
    "slideshow": {
     "slide_type": "subslide"
    }
   },
   "source": [
    "**<font color='teal'>descriptive statistics:</font>**\n",
    "\n",
    "- numerical feature"
   ]
  },
  {
   "cell_type": "code",
   "execution_count": 12,
   "metadata": {
    "slideshow": {
     "slide_type": "fragment"
    }
   },
   "outputs": [
    {
     "data": {
      "text/html": [
       "<div>\n",
       "<style scoped>\n",
       "    .dataframe tbody tr th:only-of-type {\n",
       "        vertical-align: middle;\n",
       "    }\n",
       "\n",
       "    .dataframe tbody tr th {\n",
       "        vertical-align: top;\n",
       "    }\n",
       "\n",
       "    .dataframe thead th {\n",
       "        text-align: right;\n",
       "    }\n",
       "</style>\n",
       "<table border=\"1\" class=\"dataframe\">\n",
       "  <thead>\n",
       "    <tr style=\"text-align: right;\">\n",
       "      <th></th>\n",
       "      <th>user_id</th>\n",
       "      <th>conversion</th>\n",
       "      <th>test</th>\n",
       "      <th>age</th>\n",
       "    </tr>\n",
       "  </thead>\n",
       "  <tbody>\n",
       "    <tr>\n",
       "      <th>count</th>\n",
       "      <td>453321.000000</td>\n",
       "      <td>453321.000000</td>\n",
       "      <td>453321.000000</td>\n",
       "      <td>452867.000000</td>\n",
       "    </tr>\n",
       "    <tr>\n",
       "      <th>mean</th>\n",
       "      <td>499937.514728</td>\n",
       "      <td>0.049579</td>\n",
       "      <td>0.476446</td>\n",
       "      <td>27.130740</td>\n",
       "    </tr>\n",
       "    <tr>\n",
       "      <th>std</th>\n",
       "      <td>288665.193436</td>\n",
       "      <td>0.217073</td>\n",
       "      <td>0.499445</td>\n",
       "      <td>6.776678</td>\n",
       "    </tr>\n",
       "    <tr>\n",
       "      <th>min</th>\n",
       "      <td>1.000000</td>\n",
       "      <td>0.000000</td>\n",
       "      <td>0.000000</td>\n",
       "      <td>18.000000</td>\n",
       "    </tr>\n",
       "    <tr>\n",
       "      <th>25%</th>\n",
       "      <td>249816.000000</td>\n",
       "      <td>0.000000</td>\n",
       "      <td>0.000000</td>\n",
       "      <td>22.000000</td>\n",
       "    </tr>\n",
       "    <tr>\n",
       "      <th>50%</th>\n",
       "      <td>500019.000000</td>\n",
       "      <td>0.000000</td>\n",
       "      <td>0.000000</td>\n",
       "      <td>26.000000</td>\n",
       "    </tr>\n",
       "    <tr>\n",
       "      <th>75%</th>\n",
       "      <td>749522.000000</td>\n",
       "      <td>0.000000</td>\n",
       "      <td>1.000000</td>\n",
       "      <td>31.000000</td>\n",
       "    </tr>\n",
       "    <tr>\n",
       "      <th>max</th>\n",
       "      <td>1000000.000000</td>\n",
       "      <td>1.000000</td>\n",
       "      <td>1.000000</td>\n",
       "      <td>70.000000</td>\n",
       "    </tr>\n",
       "  </tbody>\n",
       "</table>\n",
       "</div>"
      ],
      "text/plain": [
       "              user_id     conversion           test            age\n",
       "count   453321.000000  453321.000000  453321.000000  452867.000000\n",
       "mean    499937.514728       0.049579       0.476446      27.130740\n",
       "std     288665.193436       0.217073       0.499445       6.776678\n",
       "min          1.000000       0.000000       0.000000      18.000000\n",
       "25%     249816.000000       0.000000       0.000000      22.000000\n",
       "50%     500019.000000       0.000000       0.000000      26.000000\n",
       "75%     749522.000000       0.000000       1.000000      31.000000\n",
       "max    1000000.000000       1.000000       1.000000      70.000000"
      ]
     },
     "execution_count": 12,
     "metadata": {},
     "output_type": "execute_result"
    }
   ],
   "source": [
    "test_id.describe() # provides the statistical analysis of the numerical features"
   ]
  },
  {
   "cell_type": "markdown",
   "metadata": {
    "slideshow": {
     "slide_type": "fragment"
    }
   },
   "source": [
    "**<font color='purple'>observation:</font>**\n",
    "    \n",
    "- Coversion rate is 5.0 % which is close to industry standard.\n",
    "- Around 47.6 % of the users are in the test set.\n",
    "- Users come from a young population. Their 3rd quantile is 31."
   ]
  },
  {
   "cell_type": "markdown",
   "metadata": {
    "slideshow": {
     "slide_type": "subslide"
    }
   },
   "source": [
    "**<font color='teal'>descriptive statistics:</font>**\n",
    "\n",
    "- categorical feature"
   ]
  },
  {
   "cell_type": "code",
   "execution_count": 13,
   "metadata": {
    "slideshow": {
     "slide_type": "fragment"
    }
   },
   "outputs": [
    {
     "data": {
      "text/html": [
       "<div>\n",
       "<style scoped>\n",
       "    .dataframe tbody tr th:only-of-type {\n",
       "        vertical-align: middle;\n",
       "    }\n",
       "\n",
       "    .dataframe tbody tr th {\n",
       "        vertical-align: top;\n",
       "    }\n",
       "\n",
       "    .dataframe thead th {\n",
       "        text-align: right;\n",
       "    }\n",
       "</style>\n",
       "<table border=\"1\" class=\"dataframe\">\n",
       "  <thead>\n",
       "    <tr style=\"text-align: right;\">\n",
       "      <th></th>\n",
       "      <th>source</th>\n",
       "      <th>device</th>\n",
       "      <th>browser_language</th>\n",
       "      <th>ads_channel</th>\n",
       "      <th>browser</th>\n",
       "      <th>sex</th>\n",
       "      <th>country</th>\n",
       "    </tr>\n",
       "  </thead>\n",
       "  <tbody>\n",
       "    <tr>\n",
       "      <th>count</th>\n",
       "      <td>453321</td>\n",
       "      <td>453321</td>\n",
       "      <td>453321</td>\n",
       "      <td>181877</td>\n",
       "      <td>453321</td>\n",
       "      <td>452867</td>\n",
       "      <td>452867</td>\n",
       "    </tr>\n",
       "    <tr>\n",
       "      <th>unique</th>\n",
       "      <td>3</td>\n",
       "      <td>2</td>\n",
       "      <td>3</td>\n",
       "      <td>5</td>\n",
       "      <td>7</td>\n",
       "      <td>2</td>\n",
       "      <td>16</td>\n",
       "    </tr>\n",
       "    <tr>\n",
       "      <th>top</th>\n",
       "      <td>Ads</td>\n",
       "      <td>Web</td>\n",
       "      <td>FR</td>\n",
       "      <td>Facebook</td>\n",
       "      <td>Android_App</td>\n",
       "      <td>M</td>\n",
       "      <td>Congo</td>\n",
       "    </tr>\n",
       "    <tr>\n",
       "      <th>freq</th>\n",
       "      <td>181877</td>\n",
       "      <td>251565</td>\n",
       "      <td>377547</td>\n",
       "      <td>68425</td>\n",
       "      <td>155135</td>\n",
       "      <td>264485</td>\n",
       "      <td>136659</td>\n",
       "    </tr>\n",
       "  </tbody>\n",
       "</table>\n",
       "</div>"
      ],
      "text/plain": [
       "        source  device browser_language ads_channel      browser     sex  \\\n",
       "count   453321  453321           453321      181877       453321  452867   \n",
       "unique       3       2                3           5            7       2   \n",
       "top        Ads     Web               FR    Facebook  Android_App       M   \n",
       "freq    181877  251565           377547       68425       155135  264485   \n",
       "\n",
       "       country  \n",
       "count   452867  \n",
       "unique      16  \n",
       "top      Congo  \n",
       "freq    136659  "
      ]
     },
     "execution_count": 13,
     "metadata": {},
     "output_type": "execute_result"
    }
   ],
   "source": [
    "test_id.describe(include = ['O']) # provides the statistical analysis of the categrorical variables"
   ]
  },
  {
   "cell_type": "markdown",
   "metadata": {
    "slideshow": {
     "slide_type": "fragment"
    }
   },
   "source": [
    "**<font color='purple'>observation:</font>**\n",
    "- There are 3 marketing channels, and 'Ads' is the most popular.\n",
    "- Most of the users are Male.\n",
    "- There are 16 countries in the dataset. Oddly more than 1/4 of activities come from a single country."
   ]
  },
  {
   "cell_type": "markdown",
   "metadata": {
    "slideshow": {
     "slide_type": "subslide"
    }
   },
   "source": [
    "**<font color='teal'>descriptive statistics:</font>**\n",
    "\n",
    "- date"
   ]
  },
  {
   "cell_type": "code",
   "execution_count": 14,
   "metadata": {
    "slideshow": {
     "slide_type": "fragment"
    }
   },
   "outputs": [
    {
     "data": {
      "text/plain": [
       "count                  453321\n",
       "unique                      5\n",
       "top       2015-12-04 00:00:00\n",
       "freq                   141163\n",
       "first     2015-11-30 00:00:00\n",
       "last      2015-12-04 00:00:00\n",
       "Name: date, dtype: object"
      ]
     },
     "execution_count": 14,
     "metadata": {},
     "output_type": "execute_result"
    }
   ],
   "source": [
    "test_id['date'].describe()"
   ]
  },
  {
   "cell_type": "markdown",
   "metadata": {
    "slideshow": {
     "slide_type": "fragment"
    }
   },
   "source": [
    "**<font color='purple'>observation:</font>**\n",
    "\n",
    "- Test runs for 5 days (November 30th, 2015 to December 4th, 2015) **<font color='teal'>which is a pretty narrow for generalizing the results and capture any seasonality.</font>**\n"
   ]
  },
  {
   "cell_type": "markdown",
   "metadata": {
    "slideshow": {
     "slide_type": "slide"
    }
   },
   "source": [
    "## <font color='navy'>Visualized Exploratory Data Analysis</font>\n",
    "\n",
    "- **<font color='teal'>What is the click quality of each channel?</font>**"
   ]
  },
  {
   "cell_type": "code",
   "execution_count": 15,
   "metadata": {
    "slideshow": {
     "slide_type": "slide"
    }
   },
   "outputs": [
    {
     "name": "stdout",
     "output_type": "stream",
     "text": [
      "             conversion\n",
      "ads_channel            \n",
      "Other          5.011287\n",
      "Google         5.473708\n",
      "Bing           5.505994\n",
      "Yahoo          5.514272\n",
      "Facebook       5.677722\n"
     ]
    },
    {
     "data": {
      "image/png": "[encoded data removed]",
      "text/plain": [
       "<matplotlib.figure.Figure at 0x209723b6470>"
      ]
     },
     "metadata": {},
     "output_type": "display_data"
    }
   ],
   "source": [
    "advertisers = test_id[(test_id.source == 'Ads') & (test_id.test == 0)] # assuming no change occurs\n",
    "summary_ads = advertisers[['ads_channel','conversion']].groupby('ads_channel').mean().sort_values('conversion')\n",
    "summary_ads.plot(kind='bar', color = 'indigo')\n",
    "plt.xticks(rotation=45)\n",
    "plt.xlabel(\"Advertisemet Channel\")\n",
    "plt.ylabel(\"Conversion Rate\")\n",
    "print(summary_ads*100)"
   ]
  },
  {
   "cell_type": "markdown",
   "metadata": {
    "slideshow": {
     "slide_type": "subslide"
    }
   },
   "source": [
    "- **<font color='teal'>How about countries?</font>**"
   ]
  },
  {
   "cell_type": "code",
   "execution_count": 16,
   "metadata": {
    "slideshow": {
     "slide_type": "fragment"
    }
   },
   "outputs": [
    {
     "data": {
      "text/plain": [
       "Text(0,0.5,'Conversion Rate')"
      ]
     },
     "execution_count": 16,
     "metadata": {},
     "output_type": "execute_result"
    },
    {
     "data": {
      "image/png": "[encoded data removed]",
      "text/plain": [
       "<matplotlib.figure.Figure at 0x209723b6ef0>"
      ]
     },
     "metadata": {},
     "output_type": "display_data"
    }
   ],
   "source": [
    "countries = test_id[(test_id.test == 0)] # assuming no change occurs\n",
    "summary_ct = countries[['country','conversion']].groupby('country').mean().sort_values('conversion')\n",
    "summary_ct.plot(kind='bar', color='indigo', alpha=0.8)\n",
    "plt.xticks(rotation=45)\n",
    "plt.xlabel(\"Country\")\n",
    "plt.ylabel(\"Conversion Rate\")"
   ]
  },
  {
   "cell_type": "markdown",
   "metadata": {
    "slideshow": {
     "slide_type": "fragment"
    }
   },
   "source": [
    "<font color='purple'>France, indeed has a very high conversion rate compared to other coutries.</font>"
   ]
  },
  {
   "cell_type": "markdown",
   "metadata": {
    "slideshow": {
     "slide_type": "subslide"
    }
   },
   "source": [
    "- **<font color='teal'>َAnd gender?</font>**"
   ]
  },
  {
   "cell_type": "code",
   "execution_count": 17,
   "metadata": {
    "slideshow": {
     "slide_type": "fragment"
    }
   },
   "outputs": [
    {
     "data": {
      "text/html": [
       "<div>\n",
       "<style scoped>\n",
       "    .dataframe tbody tr th:only-of-type {\n",
       "        vertical-align: middle;\n",
       "    }\n",
       "\n",
       "    .dataframe tbody tr th {\n",
       "        vertical-align: top;\n",
       "    }\n",
       "\n",
       "    .dataframe thead th {\n",
       "        text-align: right;\n",
       "    }\n",
       "</style>\n",
       "<table border=\"1\" class=\"dataframe\">\n",
       "  <thead>\n",
       "    <tr style=\"text-align: right;\">\n",
       "      <th></th>\n",
       "      <th>conversion</th>\n",
       "    </tr>\n",
       "    <tr>\n",
       "      <th>sex</th>\n",
       "      <th></th>\n",
       "    </tr>\n",
       "  </thead>\n",
       "  <tbody>\n",
       "    <tr>\n",
       "      <th>F</th>\n",
       "      <td>0.054990</td>\n",
       "    </tr>\n",
       "    <tr>\n",
       "      <th>M</th>\n",
       "      <td>0.055273</td>\n",
       "    </tr>\n",
       "  </tbody>\n",
       "</table>\n",
       "</div>"
      ],
      "text/plain": [
       "     conversion\n",
       "sex            \n",
       "F      0.054990\n",
       "M      0.055273"
      ]
     },
     "execution_count": 17,
     "metadata": {},
     "output_type": "execute_result"
    },
    {
     "data": {
      "image/png": "[encoded data removed]",
      "text/plain": [
       "<matplotlib.figure.Figure at 0x20972a03ef0>"
      ]
     },
     "metadata": {},
     "output_type": "display_data"
    }
   ],
   "source": [
    "summary_gnd = countries[['sex','conversion']].groupby('sex').mean().sort_values('conversion')\n",
    "summary_gnd.plot(kind='bar', color='indigo', alpha=0.8)\n",
    "plt.xticks(rotation=45)\n",
    "plt.xlabel(\"Gender\")\n",
    "plt.ylabel(\"Conversion Rate\")\n",
    "summary_gnd"
   ]
  },
  {
   "cell_type": "markdown",
   "metadata": {
    "slideshow": {
     "slide_type": "subslide"
    }
   },
   "source": [
    "- **<font color='teal'>َAnd day of the experiment?</font>**"
   ]
  },
  {
   "cell_type": "code",
   "execution_count": 18,
   "metadata": {
    "slideshow": {
     "slide_type": "fragment"
    }
   },
   "outputs": [
    {
     "data": {
      "text/html": [
       "<div>\n",
       "<style scoped>\n",
       "    .dataframe tbody tr th:only-of-type {\n",
       "        vertical-align: middle;\n",
       "    }\n",
       "\n",
       "    .dataframe tbody tr th {\n",
       "        vertical-align: top;\n",
       "    }\n",
       "\n",
       "    .dataframe thead th {\n",
       "        text-align: right;\n",
       "    }\n",
       "</style>\n",
       "<table border=\"1\" class=\"dataframe\">\n",
       "  <thead>\n",
       "    <tr style=\"text-align: right;\">\n",
       "      <th></th>\n",
       "      <th>conversion</th>\n",
       "    </tr>\n",
       "    <tr>\n",
       "      <th>date</th>\n",
       "      <th></th>\n",
       "    </tr>\n",
       "  </thead>\n",
       "  <tbody>\n",
       "    <tr>\n",
       "      <th>2015-12-01</th>\n",
       "      <td>0.053616</td>\n",
       "    </tr>\n",
       "    <tr>\n",
       "      <th>2015-12-04</th>\n",
       "      <td>0.054122</td>\n",
       "    </tr>\n",
       "    <tr>\n",
       "      <th>2015-12-02</th>\n",
       "      <td>0.055364</td>\n",
       "    </tr>\n",
       "    <tr>\n",
       "      <th>2015-12-03</th>\n",
       "      <td>0.056094</td>\n",
       "    </tr>\n",
       "    <tr>\n",
       "      <th>2015-11-30</th>\n",
       "      <td>0.057374</td>\n",
       "    </tr>\n",
       "  </tbody>\n",
       "</table>\n",
       "</div>"
      ],
      "text/plain": [
       "            conversion\n",
       "date                  \n",
       "2015-12-01    0.053616\n",
       "2015-12-04    0.054122\n",
       "2015-12-02    0.055364\n",
       "2015-12-03    0.056094\n",
       "2015-11-30    0.057374"
      ]
     },
     "execution_count": 18,
     "metadata": {},
     "output_type": "execute_result"
    },
    {
     "data": {
      "image/png": "[encoded data removed]",
      "text/plain": [
       "<matplotlib.figure.Figure at 0x20972a785c0>"
      ]
     },
     "metadata": {},
     "output_type": "display_data"
    }
   ],
   "source": [
    "summary_gnd = countries[['date','conversion']].groupby('date').mean().sort_values('conversion')\n",
    "summary_gnd.plot(kind='bar', color='indigo', alpha=0.8)\n",
    "plt.xticks(rotation=45)\n",
    "plt.xlabel(\"Gender\")\n",
    "plt.ylabel(\"Conversion Rate\")\n",
    "summary_gnd"
   ]
  },
  {
   "cell_type": "markdown",
   "metadata": {
    "slideshow": {
     "slide_type": "slide"
    }
   },
   "source": [
    "## <font color='navy'>Q1- Reproduce negative results. Is that really negative?</font>\n",
    " \n",
    "What we need to see here is simply if the coversion rate reduces after we perform the test. We use groupby to see the results, then perform a simple statistical test to assure it is significant."
   ]
  },
  {
   "cell_type": "code",
   "execution_count": 19,
   "metadata": {
    "slideshow": {
     "slide_type": "fragment"
    }
   },
   "outputs": [
    {
     "data": {
      "text/html": [
       "<div>\n",
       "<style scoped>\n",
       "    .dataframe tbody tr th:only-of-type {\n",
       "        vertical-align: middle;\n",
       "    }\n",
       "\n",
       "    .dataframe tbody tr th {\n",
       "        vertical-align: top;\n",
       "    }\n",
       "\n",
       "    .dataframe thead th {\n",
       "        text-align: right;\n",
       "    }\n",
       "</style>\n",
       "<table border=\"1\" class=\"dataframe\">\n",
       "  <thead>\n",
       "    <tr style=\"text-align: right;\">\n",
       "      <th></th>\n",
       "      <th>conversion</th>\n",
       "    </tr>\n",
       "    <tr>\n",
       "      <th>test</th>\n",
       "      <th></th>\n",
       "    </tr>\n",
       "  </thead>\n",
       "  <tbody>\n",
       "    <tr>\n",
       "      <th>0</th>\n",
       "      <td>0.055179</td>\n",
       "    </tr>\n",
       "    <tr>\n",
       "      <th>1</th>\n",
       "      <td>0.043425</td>\n",
       "    </tr>\n",
       "  </tbody>\n",
       "</table>\n",
       "</div>"
      ],
      "text/plain": [
       "      conversion\n",
       "test            \n",
       "0       0.055179\n",
       "1       0.043425"
      ]
     },
     "execution_count": 19,
     "metadata": {},
     "output_type": "execute_result"
    }
   ],
   "source": [
    "test_id[['test','conversion']].groupby('test').mean() # checking the conversion rate for all of the customers in test/non test"
   ]
  },
  {
   "cell_type": "markdown",
   "metadata": {
    "slideshow": {
     "slide_type": "subslide"
    }
   },
   "source": [
    "**<font color='teal'>Tableau Results:</font>**\n",
    "![Results of the A/B test](A-Btest.PNG \"Conversion rate before and after test\")"
   ]
  },
  {
   "cell_type": "markdown",
   "metadata": {
    "slideshow": {
     "slide_type": "fragment"
    }
   },
   "source": [
    "<font color='purple'>Indeed there is a reduction of 1.18% (5.52-4.34) in the coversion rate comparing experiment and control groups.Such reduction is practically significant in most business cases.</font>"
   ]
  },
  {
   "cell_type": "markdown",
   "metadata": {
    "slideshow": {
     "slide_type": "subslide"
    }
   },
   "source": [
    "<font color='teal'>Is this result statistically significant?</font>"
   ]
  },
  {
   "cell_type": "code",
   "execution_count": 20,
   "metadata": {
    "slideshow": {
     "slide_type": "fragment"
    }
   },
   "outputs": [],
   "source": [
    "def categorical_features_test(df, feature, target):\n",
    "    observed = pd.crosstab(df[target],df[feature])    \n",
    "    _, p, _, _ = chi2_contingency(observed)\n",
    "    if p<0.05:\n",
    "        significance = 'significant'\n",
    "    else:\n",
    "        significance = 'insignificant'     \n",
    "    print('*'*27+' Chi-Square test results!!!'+'*'*27)\n",
    "    print('contingency table:')\n",
    "    print('-'*30)\n",
    "    print(observed)\n",
    "    print('-'*30)\n",
    "    print(\"The p-value for the dependance of categories in <\"+feature+\"> feature is {}.\".format(round(p,10)))\n",
    "    print(\"This difference is statistically \"+significance+\"!\")\n",
    "    print('-'*80)"
   ]
  },
  {
   "cell_type": "code",
   "execution_count": 21,
   "metadata": {
    "slideshow": {
     "slide_type": "subslide"
    }
   },
   "outputs": [
    {
     "name": "stdout",
     "output_type": "stream",
     "text": [
      "*************************** Chi-Square test results!!!***************************\n",
      "contingency table:\n",
      "------------------------------\n",
      "test             0       1\n",
      "conversion                \n",
      "0           224242  206604\n",
      "1            13096    9379\n",
      "------------------------------\n",
      "The p-value for the dependance of categories in <test> feature is 0.0.\n",
      "This difference is statistically significant!\n",
      "--------------------------------------------------------------------------------\n"
     ]
    }
   ],
   "source": [
    "categorical_features_test(test_id, 'test', 'conversion')"
   ]
  },
  {
   "cell_type": "markdown",
   "metadata": {
    "slideshow": {
     "slide_type": "subslide"
    }
   },
   "source": [
    "<font color='teal'>We can also check using hypothesis z-test on proportions:</font>\n",
    "\n",
    "\n",
    "null hypothesis:\n",
    "$$ H_0: p_1-p_2 = 0$$\n",
    "\n",
    "alternative hypothesis\n",
    "$$H_A: p_1-p_2\\neq0$$ \n",
    "\n",
    "Z test statistics for the test on comparing two proportions is:\n",
    "\n",
    "$$Z = \\frac{(\\hat{p_1}-\\hat{p_2})-0}{\\sqrt{\\hat{p}(1-\\hat{p})(\\frac{1}{n_1}+\\frac{1}{n_2}))}}$$\n",
    "$$=\\frac{(0.05518-0.04342)-0}{\\sqrt{0.04958(1-0.04958)(\\frac{1}{237338}+\\frac{1}{215983}))}}=18.21742$$\n",
    "\n",
    "\n",
    "where:\n",
    "\n",
    "$$\\hat{p} = \\frac{Y_1 + Y_2}{n_1 + n_2}$$\n",
    "\n",
    "$$p-value = 3.926401e-73$$"
   ]
  },
  {
   "cell_type": "markdown",
   "metadata": {
    "slideshow": {
     "slide_type": "fragment"
    }
   },
   "source": [
    "So to get back to the questions:\n",
    "\n",
    "**<font color='purple'>Yes. We notice a drop in the coversion rates. Moreover this drop is statistically and (probably) practically significant.</font>**"
   ]
  },
  {
   "cell_type": "markdown",
   "metadata": {
    "slideshow": {
     "slide_type": "slide"
    }
   },
   "source": [
    "## <font color='navy'>Q2 : Explain why that might be happening. Are the localized translations really worse?</font>\n",
    "\n",
    "In performing an acceptable A/B test, it is important to perform sanity check (invariance check) before analysing the results.\n",
    "\n",
    "- Sample size?\n",
    "- Randomization performed?\n",
    "- Experiment design best practices performed (invariance)?"
   ]
  },
  {
   "cell_type": "markdown",
   "metadata": {
    "slideshow": {
     "slide_type": "subslide"
    }
   },
   "source": [
    "<font color='teal'>Sample Size:</font>\n",
    "\n",
    "![Sample size](sample.PNG \"sample size\")"
   ]
  },
  {
   "cell_type": "code",
   "execution_count": 22,
   "metadata": {
    "slideshow": {
     "slide_type": "subslide"
    }
   },
   "outputs": [
    {
     "name": "stdout",
     "output_type": "stream",
     "text": [
      "There are 237338 activities in control and 215983 activities in experiment group\n"
     ]
    }
   ],
   "source": [
    "original = test_id[test_id.test == 0]\n",
    "experiment = test_id[test_id.test == 1]\n",
    "print(\"There are {} activities in control and {}\\\n",
    " activities in experiment group\".format(len(original), len(experiment)))"
   ]
  },
  {
   "cell_type": "markdown",
   "metadata": {
    "slideshow": {
     "slide_type": "subslide"
    }
   },
   "source": [
    "<font color='teal'>Randomly assigned?:</font>"
   ]
  },
  {
   "cell_type": "markdown",
   "metadata": {
    "slideshow": {
     "slide_type": "fragment"
    }
   },
   "source": [
    "null hypothesis:\n",
    "$$ H_0: p = 0.5$$\n",
    "\n",
    "alternative hypothesis\n",
    "$$H_A: p\\neq0.5$$ \n",
    "\n",
    "z-test:\n",
    "\n",
    "$$z = \\frac{(\\hat{p}-p)}{\\sqrt{\\hat{p}(1-\\hat{p})(\\frac{1}{n_1}+\\frac{1}{n_2}))}}$$\n",
    "\n",
    "where \n",
    "$$\\hat{p}=  \\frac{237338}{237338+215983}=0.5236$$\n",
    "\n",
    "which results in \n",
    "\n",
    "$$z = \\frac{(0.5236-0.5000)}{\\sqrt{0.5(1-0.5)(\\frac{1}{237338}+\\frac{1}{215983}))}}=15.87$$\n",
    "\n",
    "$$p-value = 8.144775e-56$$"
   ]
  },
  {
   "cell_type": "markdown",
   "metadata": {
    "slideshow": {
     "slide_type": "fragment"
    }
   },
   "source": [
    "**<font color='purple'>Consult with test implementation engineers to find the cause.</font>**"
   ]
  },
  {
   "cell_type": "markdown",
   "metadata": {
    "slideshow": {
     "slide_type": "subslide"
    }
   },
   "source": [
    "<font color='teal'>Randomly assigned?:</font>"
   ]
  },
  {
   "cell_type": "code",
   "execution_count": 23,
   "metadata": {
    "slideshow": {
     "slide_type": "fragment"
    }
   },
   "outputs": [
    {
     "name": "stdout",
     "output_type": "stream",
     "text": [
      "France is in original dataset but not included in the experiment data set.\n"
     ]
    }
   ],
   "source": [
    "original_countries= set(original.country.dropna()) # unique countries in oiriginal\n",
    "experiment_countries= set(experiment.country.dropna()) #unique countries in test\n",
    "not_included = original_countries - experiment_countries # countries in original that is not considered in test\n",
    "\n",
    "print(\",\".join(not_included) + \" is in original dataset but not included in the experiment data set.\") "
   ]
  },
  {
   "cell_type": "markdown",
   "metadata": {
    "slideshow": {
     "slide_type": "fragment"
    }
   },
   "source": [
    "<font color='purple'>France is not included in the experiment. The reason could be that they knew that they are already doing well and they already had local translator. You need to consult with test implementation engineers to find the cause. Either we need to drop France from control data or include it in experiment data set.</font>"
   ]
  },
  {
   "cell_type": "code",
   "execution_count": 24,
   "metadata": {
    "slideshow": {
     "slide_type": "fragment"
    }
   },
   "outputs": [
    {
     "data": {
      "text/html": [
       "<div>\n",
       "<style scoped>\n",
       "    .dataframe tbody tr th:only-of-type {\n",
       "        vertical-align: middle;\n",
       "    }\n",
       "\n",
       "    .dataframe tbody tr th {\n",
       "        vertical-align: top;\n",
       "    }\n",
       "\n",
       "    .dataframe thead th {\n",
       "        text-align: right;\n",
       "    }\n",
       "</style>\n",
       "<table border=\"1\" class=\"dataframe\">\n",
       "  <thead>\n",
       "    <tr style=\"text-align: right;\">\n",
       "      <th></th>\n",
       "      <th>conversion</th>\n",
       "    </tr>\n",
       "    <tr>\n",
       "      <th>test</th>\n",
       "      <th></th>\n",
       "    </tr>\n",
       "  </thead>\n",
       "  <tbody>\n",
       "    <tr>\n",
       "      <th>0</th>\n",
       "      <td>0.048330</td>\n",
       "    </tr>\n",
       "    <tr>\n",
       "      <th>1</th>\n",
       "      <td>0.043425</td>\n",
       "    </tr>\n",
       "  </tbody>\n",
       "</table>\n",
       "</div>"
      ],
      "text/plain": [
       "      conversion\n",
       "test            \n",
       "0       0.048330\n",
       "1       0.043425"
      ]
     },
     "execution_count": 24,
     "metadata": {},
     "output_type": "execute_result"
    }
   ],
   "source": [
    "cleaned_test_id = test_id[test_id.country != 'France']\n",
    "cleaned_test_id[['test','conversion']].groupby('test').mean()"
   ]
  },
  {
   "cell_type": "markdown",
   "metadata": {
    "slideshow": {
     "slide_type": "subslide"
    }
   },
   "source": [
    "<font color='teal'>Confounding Variables Blocked?:</font>"
   ]
  },
  {
   "cell_type": "code",
   "execution_count": 25,
   "metadata": {
    "slideshow": {
     "slide_type": "skip"
    }
   },
   "outputs": [],
   "source": [
    "categorical = ['ads_channel','country']"
   ]
  },
  {
   "cell_type": "code",
   "execution_count": 26,
   "metadata": {
    "slideshow": {
     "slide_type": "fragment"
    }
   },
   "outputs": [
    {
     "name": "stdout",
     "output_type": "stream",
     "text": [
      "Conversion rate for differenct levels of <ads_channel> is:\n",
      "             conversion\n",
      "ads_channel            \n",
      "Facebook       0.056777\n",
      "Yahoo          0.055143\n",
      "Bing           0.055060\n",
      "Google         0.054737\n",
      "Other          0.050113\n",
      "**********************************************************************\n",
      "Conversion rate for differenct levels of <country> is:\n",
      "             conversion\n",
      "country                \n",
      "France         0.079719\n",
      "Luxembourg     0.052647\n",
      "Gabon          0.052256\n",
      "Canada         0.052089\n",
      "Senegal        0.050906\n",
      "Tunisia        0.050643\n",
      "Switzerland    0.050344\n",
      "Cameroon       0.049914\n",
      "Congo          0.049739\n",
      "Haiti          0.049369\n",
      "Belgium        0.049154\n",
      "Andorra        0.048493\n",
      "Morocco        0.048107\n",
      "Seychelles     0.046796\n",
      "Algeria        0.015071\n",
      "Mauritius      0.012048\n",
      "**********************************************************************\n"
     ]
    }
   ],
   "source": [
    "for variable in categorical:\n",
    "    print(\"Conversion rate for differenct levels of <\" + variable + \"> is:\")\n",
    "    print(original[[variable,'conversion']].groupby(variable).mean().sort_values('conversion',ascending=False))\n",
    "    print(\"*\"*70)"
   ]
  },
  {
   "cell_type": "markdown",
   "metadata": {
    "slideshow": {
     "slide_type": "fragment"
    }
   },
   "source": [
    "<font color='purple'> Most of the categorical variables have marginal difference in their conversion rate and there is no reason to control for them. ***However, we see that countries and advertisement source have absoloutley meaningful difference in terms of conversion rate. Therefore, let's run our test another time controling for country and adertisement channel.*** </font>"
   ]
  },
  {
   "cell_type": "markdown",
   "metadata": {
    "slideshow": {
     "slide_type": "subslide"
    }
   },
   "source": [
    "<font color='teal'>Confounding Variables Blocked?</font>"
   ]
  },
  {
   "cell_type": "code",
   "execution_count": 27,
   "metadata": {
    "slideshow": {
     "slide_type": "fragment"
    }
   },
   "outputs": [
    {
     "name": "stdout",
     "output_type": "stream",
     "text": [
      "                      mean  count\n",
      "country     test                 \n",
      "Algeria     0     0.015071   9356\n",
      "            1     0.013725  37377\n",
      "Andorra     0     0.048493   3650\n",
      "            1     0.049229   3697\n",
      "Belgium     0     0.049154   8036\n",
      "            1     0.048988   7859\n",
      "Cameroon    0     0.049914  16869\n",
      "            1     0.050604  16797\n",
      "Canada      0     0.052089  27088\n",
      "            1     0.050571  26972\n",
      "Congo       0     0.049739  68317\n",
      "            1     0.050994  68342\n",
      "Gabon       0     0.052256   2660\n",
      "            1     0.054738   2649\n",
      "Haiti       0     0.049369   5550\n",
      "            1     0.047901   5574\n",
      "Luxembourg  0     0.052647   3419\n",
      "            1     0.054177   3304\n",
      "Mauritius   0     0.012048    415\n",
      "            1     0.012907   3719\n",
      "Morocco     0     0.048107   9853\n",
      "            1     0.051295   9884\n",
      "Senegal     0     0.050906   4361\n",
      "            1     0.047540   4207\n",
      "Seychelles  0     0.046796   1966\n",
      "            1     0.049370   1985\n",
      "Switzerland 0     0.050344  16149\n",
      "            1     0.048978  15905\n",
      "Tunisia     0     0.050643   7622\n",
      "            1     0.048647   7503\n"
     ]
    }
   ],
   "source": [
    "results_country = cleaned_test_id[['country','test','conversion']].groupby(['country','test'])['conversion'].agg(['mean','count'])\n",
    "print(results_country)"
   ]
  },
  {
   "cell_type": "markdown",
   "metadata": {
    "slideshow": {
     "slide_type": "fragment"
    }
   },
   "source": [
    "<font color='purple'>Although we have a couple of countries that show large difference in conversion rate (e.g. Senegal with 0.22% decrease in coversion rate), we dont have the initial confidence that there is a significant change in conversion rate between control and experiment datasets. Also notice the difference in number of participant in Algeria and Mauritius for control and test."
   ]
  },
  {
   "cell_type": "markdown",
   "metadata": {
    "slideshow": {
     "slide_type": "skip"
    }
   },
   "source": [
    "<font color='teal'>Confounding Variables Blocked?</font>"
   ]
  },
  {
   "cell_type": "code",
   "execution_count": 28,
   "metadata": {
    "slideshow": {
     "slide_type": "fragment"
    }
   },
   "outputs": [
    {
     "name": "stdout",
     "output_type": "stream",
     "text": [
      "                      mean  count\n",
      "ads_channel test                 \n",
      "Bing        0     0.045724   5577\n",
      "            1     0.042057   6515\n",
      "Facebook    0     0.050459  27884\n",
      "            1     0.044184  32636\n",
      "Google      0     0.048607  27959\n",
      "            1     0.043013  32409\n",
      "Other       0     0.041327   1718\n",
      "            1     0.037765   1933\n",
      "Yahoo       0     0.047539  11317\n",
      "            1     0.044876  13036\n"
     ]
    }
   ],
   "source": [
    "results_country = cleaned_test_id[['ads_channel','test','conversion']].groupby(['ads_channel','test'])['conversion'].agg(['mean','count'])\n",
    "print(results_country)"
   ]
  },
  {
   "cell_type": "markdown",
   "metadata": {
    "slideshow": {
     "slide_type": "skip"
    }
   },
   "source": [
    "<font color='maroon'>Although we have a couple of countries that show large difference in conversion rate (e.g. Senegal with 0.22% decrease in coversion rate), we dont have the initial confidence that there is a significant change in conversion rate between control and experiment datasets. Also notice the difference in number of participant in Algeria and Mauritius.</font>"
   ]
  },
  {
   "cell_type": "code",
   "execution_count": 29,
   "metadata": {
    "slideshow": {
     "slide_type": "skip"
    }
   },
   "outputs": [],
   "source": [
    "countries = cleaned_test_id.country.dropna().unique()\n",
    "sources = cleaned_test_id.ads_channel.dropna().unique()"
   ]
  },
  {
   "cell_type": "markdown",
   "metadata": {
    "slideshow": {
     "slide_type": "subslide"
    }
   },
   "source": [
    "<font color='teal'>Significance considering confounding variable - country</font>"
   ]
  },
  {
   "cell_type": "code",
   "execution_count": 30,
   "metadata": {
    "slideshow": {
     "slide_type": "fragment"
    }
   },
   "outputs": [
    {
     "name": "stdout",
     "output_type": "stream",
     "text": [
      "Checking the statistical significance of A/B test for country <Congo>\n",
      "*************************** Chi-Square test results!!!***************************\n",
      "contingency table:\n",
      "------------------------------\n",
      "test            0      1\n",
      "conversion              \n",
      "0           64919  64857\n",
      "1            3398   3485\n",
      "------------------------------\n",
      "The p-value for the dependance of categories in <test> feature is 0.2945668388.\n",
      "This difference is statistically insignificant!\n",
      "--------------------------------------------------------------------------------\n",
      "Checking the statistical significance of A/B test for country <Switzerland>\n",
      "*************************** Chi-Square test results!!!***************************\n",
      "contingency table:\n",
      "------------------------------\n",
      "test            0      1\n",
      "conversion              \n",
      "0           15336  15126\n",
      "1             813    779\n",
      "------------------------------\n",
      "The p-value for the dependance of categories in <test> feature is 0.5913621305.\n",
      "This difference is statistically insignificant!\n",
      "--------------------------------------------------------------------------------\n",
      "Checking the statistical significance of A/B test for country <Haiti>\n",
      "*************************** Chi-Square test results!!!***************************\n",
      "contingency table:\n",
      "------------------------------\n",
      "test           0     1\n",
      "conversion            \n",
      "0           5276  5307\n",
      "1            274   267\n",
      "------------------------------\n",
      "The p-value for the dependance of categories in <test> feature is 0.7520625468.\n",
      "This difference is statistically insignificant!\n",
      "--------------------------------------------------------------------------------\n",
      "Checking the statistical significance of A/B test for country <Canada>\n",
      "*************************** Chi-Square test results!!!***************************\n",
      "contingency table:\n",
      "------------------------------\n",
      "test            0      1\n",
      "conversion              \n",
      "0           25677  25608\n",
      "1            1411   1364\n",
      "------------------------------\n",
      "The p-value for the dependance of categories in <test> feature is 0.435103803.\n",
      "This difference is statistically insignificant!\n",
      "--------------------------------------------------------------------------------\n",
      "Checking the statistical significance of A/B test for country <Mauritius>\n",
      "*************************** Chi-Square test results!!!***************************\n",
      "contingency table:\n",
      "------------------------------\n",
      "test          0     1\n",
      "conversion           \n",
      "0           410  3671\n",
      "1             5    48\n",
      "------------------------------\n",
      "The p-value for the dependance of categories in <test> feature is 0.9341921732.\n",
      "This difference is statistically insignificant!\n",
      "--------------------------------------------------------------------------------\n",
      "Checking the statistical significance of A/B test for country <Luxembourg>\n",
      "*************************** Chi-Square test results!!!***************************\n",
      "contingency table:\n",
      "------------------------------\n",
      "test           0     1\n",
      "conversion            \n",
      "0           3239  3125\n",
      "1            180   179\n",
      "------------------------------\n",
      "The p-value for the dependance of categories in <test> feature is 0.8222447677.\n",
      "This difference is statistically insignificant!\n",
      "--------------------------------------------------------------------------------\n",
      "Checking the statistical significance of A/B test for country <Cameroon>\n",
      "*************************** Chi-Square test results!!!***************************\n",
      "contingency table:\n",
      "------------------------------\n",
      "test            0      1\n",
      "conversion              \n",
      "0           16027  15947\n",
      "1             842    850\n",
      "------------------------------\n",
      "The p-value for the dependance of categories in <test> feature is 0.7910941814.\n",
      "This difference is statistically insignificant!\n",
      "--------------------------------------------------------------------------------\n",
      "Checking the statistical significance of A/B test for country <Gabon>\n",
      "*************************** Chi-Square test results!!!***************************\n",
      "contingency table:\n",
      "------------------------------\n",
      "test           0     1\n",
      "conversion            \n",
      "0           2521  2504\n",
      "1            139   145\n",
      "------------------------------\n",
      "The p-value for the dependance of categories in <test> feature is 0.733212385.\n",
      "This difference is statistically insignificant!\n",
      "--------------------------------------------------------------------------------\n",
      "Checking the statistical significance of A/B test for country <Morocco>\n",
      "*************************** Chi-Square test results!!!***************************\n",
      "contingency table:\n",
      "------------------------------\n",
      "test           0     1\n",
      "conversion            \n",
      "0           9379  9377\n",
      "1            474   507\n",
      "------------------------------\n",
      "The p-value for the dependance of categories in <test> feature is 0.3184751705.\n",
      "This difference is statistically insignificant!\n",
      "--------------------------------------------------------------------------------\n",
      "Checking the statistical significance of A/B test for country <Algeria>\n",
      "*************************** Chi-Square test results!!!***************************\n",
      "contingency table:\n",
      "------------------------------\n",
      "test           0      1\n",
      "conversion             \n",
      "0           9215  36864\n",
      "1            141    513\n",
      "------------------------------\n",
      "The p-value for the dependance of categories in <test> feature is 0.3463718933.\n",
      "This difference is statistically insignificant!\n",
      "--------------------------------------------------------------------------------\n",
      "Checking the statistical significance of A/B test for country <Belgium>\n",
      "*************************** Chi-Square test results!!!***************************\n",
      "contingency table:\n",
      "------------------------------\n",
      "test           0     1\n",
      "conversion            \n",
      "0           7641  7474\n",
      "1            395   385\n",
      "------------------------------\n",
      "The p-value for the dependance of categories in <test> feature is 0.9907931472.\n",
      "This difference is statistically insignificant!\n",
      "--------------------------------------------------------------------------------\n",
      "Checking the statistical significance of A/B test for country <Tunisia>\n",
      "*************************** Chi-Square test results!!!***************************\n",
      "contingency table:\n",
      "------------------------------\n",
      "test           0     1\n",
      "conversion            \n",
      "0           7236  7138\n",
      "1            386   365\n",
      "------------------------------\n",
      "The p-value for the dependance of categories in <test> feature is 0.5978623363.\n",
      "This difference is statistically insignificant!\n",
      "--------------------------------------------------------------------------------\n",
      "Checking the statistical significance of A/B test for country <Senegal>\n",
      "*************************** Chi-Square test results!!!***************************\n",
      "contingency table:\n",
      "------------------------------\n",
      "test           0     1\n",
      "conversion            \n",
      "0           4139  4007\n",
      "1            222   200\n",
      "------------------------------\n",
      "The p-value for the dependance of categories in <test> feature is 0.5029577068.\n",
      "This difference is statistically insignificant!\n",
      "--------------------------------------------------------------------------------\n",
      "Checking the statistical significance of A/B test for country <Andorra>\n",
      "*************************** Chi-Square test results!!!***************************\n",
      "contingency table:\n",
      "------------------------------\n",
      "test           0     1\n",
      "conversion            \n",
      "0           3473  3515\n",
      "1            177   182\n",
      "------------------------------\n",
      "The p-value for the dependance of categories in <test> feature is 0.9265509226.\n",
      "This difference is statistically insignificant!\n",
      "--------------------------------------------------------------------------------\n",
      "Checking the statistical significance of A/B test for country <Seychelles>\n",
      "*************************** Chi-Square test results!!!***************************\n",
      "contingency table:\n",
      "------------------------------\n",
      "test           0     1\n",
      "conversion            \n",
      "0           1874  1887\n",
      "1             92    98\n",
      "------------------------------\n",
      "The p-value for the dependance of categories in <test> feature is 0.7612411867.\n",
      "This difference is statistically insignificant!\n",
      "--------------------------------------------------------------------------------\n"
     ]
    }
   ],
   "source": [
    "for ctry in countries:\n",
    "    print(\"Checking the statistical significance of A/B test for country <\" + ctry+\">\" )\n",
    "    country_data = cleaned_test_id[cleaned_test_id.country == ctry]\n",
    "    categorical_features_test(country_data, 'test', 'conversion') # developing dataframe for each countri and run the test"
   ]
  },
  {
   "cell_type": "markdown",
   "metadata": {
    "slideshow": {
     "slide_type": "skip"
    }
   },
   "source": [
    "<font color='teal'>Significance considering confounding variables-advertisement channel</font>"
   ]
  },
  {
   "cell_type": "code",
   "execution_count": 31,
   "metadata": {
    "slideshow": {
     "slide_type": "skip"
    }
   },
   "outputs": [
    {
     "name": "stdout",
     "output_type": "stream",
     "text": [
      "Checking the statistical significance of A/B test for ads_channel <Google>\n",
      "*************************** Chi-Square test results!!!***************************\n",
      "contingency table:\n",
      "------------------------------\n",
      "test            0      1\n",
      "conversion              \n",
      "0           26600  31015\n",
      "1            1359   1394\n",
      "------------------------------\n",
      "The p-value for the dependance of categories in <test> feature is 0.0010922346.\n",
      "This difference is statistically significant!\n",
      "--------------------------------------------------------------------------------\n",
      "Checking the statistical significance of A/B test for ads_channel <Facebook>\n",
      "*************************** Chi-Square test results!!!***************************\n",
      "contingency table:\n",
      "------------------------------\n",
      "test            0      1\n",
      "conversion              \n",
      "0           26477  31194\n",
      "1            1407   1442\n",
      "------------------------------\n",
      "The p-value for the dependance of categories in <test> feature is 0.0003020102.\n",
      "This difference is statistically significant!\n",
      "--------------------------------------------------------------------------------\n",
      "Checking the statistical significance of A/B test for ads_channel <Bing>\n",
      "*************************** Chi-Square test results!!!***************************\n",
      "contingency table:\n",
      "------------------------------\n",
      "test           0     1\n",
      "conversion            \n",
      "0           5322  6241\n",
      "1            255   274\n",
      "------------------------------\n",
      "The p-value for the dependance of categories in <test> feature is 0.3481913151.\n",
      "This difference is statistically insignificant!\n",
      "--------------------------------------------------------------------------------\n",
      "Checking the statistical significance of A/B test for ads_channel <Yahoo>\n",
      "*************************** Chi-Square test results!!!***************************\n",
      "contingency table:\n",
      "------------------------------\n",
      "test            0      1\n",
      "conversion              \n",
      "0           10779  12451\n",
      "1             538    585\n",
      "------------------------------\n",
      "The p-value for the dependance of categories in <test> feature is 0.3381802986.\n",
      "This difference is statistically insignificant!\n",
      "--------------------------------------------------------------------------------\n",
      "Checking the statistical significance of A/B test for ads_channel <Other>\n",
      "*************************** Chi-Square test results!!!***************************\n",
      "contingency table:\n",
      "------------------------------\n",
      "test           0     1\n",
      "conversion            \n",
      "0           1647  1860\n",
      "1             71    73\n",
      "------------------------------\n",
      "The p-value for the dependance of categories in <test> feature is 0.6406811128.\n",
      "This difference is statistically insignificant!\n",
      "--------------------------------------------------------------------------------\n"
     ]
    }
   ],
   "source": [
    "for source in sources:\n",
    "    print(\"Checking the statistical significance of A/B test for ads_channel <\" + source+\">\" )\n",
    "    source_data = cleaned_test_id[cleaned_test_id.ads_channel == source]\n",
    "    categorical_features_test(source_data, 'test', 'conversion') # developing dataframe for each countri and run the test"
   ]
  },
  {
   "cell_type": "markdown",
   "metadata": {
    "slideshow": {
     "slide_type": "fragment"
    }
   },
   "source": [
    "<font color='purple'>**If we block for confounding variables, e.g. country, we would have got similar `` no change `` restul for all the countries.**</font>\n"
   ]
  },
  {
   "cell_type": "markdown",
   "metadata": {
    "slideshow": {
     "slide_type": "subslide"
    }
   },
   "source": [
    "## <font color='navy'>Q2 - Conclusion:</font>\n",
    "\n",
    "Explain why that might be happening. Are the localized translations really worse?\n",
    "\n",
    "Test is not well designed.\n",
    "- Randomization is not performed coorectly. Number of samples are not the same in both group.\n",
    "- Random assignment is not performed correctly. Users from France only appear in control group.\n",
    "- Blocking is not performed correctly. Confounding variables have different number of users in control and experiment."
   ]
  },
  {
   "cell_type": "markdown",
   "metadata": {
    "slideshow": {
     "slide_type": "slide"
    }
   },
   "source": [
    "## <font color='navy'> Q3: If you identified what was wrong, design an algorithm that would return FALSE if the same problem is happening in the future and TRUE if everything is good and the results can be trusted.</font>\n",
    "\n",
    "Assuming random assignment is performed correctly, I will check whether control and experiment group have same distribution of confounding variable (chi-square goodness of fit)."
   ]
  },
  {
   "cell_type": "markdown",
   "metadata": {
    "slideshow": {
     "slide_type": "subslide"
    }
   },
   "source": [
    "<font color='teal'>Can we trust the results of the experiment?</font>\n",
    "- Algorithm"
   ]
  },
  {
   "cell_type": "code",
   "execution_count": 32,
   "metadata": {
    "slideshow": {
     "slide_type": "fragment"
    }
   },
   "outputs": [],
   "source": [
    "def experiment_reliability_check(dataframe, confounding, index, target):\n",
    "    confounding_count = dataframe[[confounding,target,index]].groupby([confounding,target]).count().reset_index()\n",
    "    observed_confounding = confounding_count.pivot(index=confounding,values=index,columns=target)\n",
    "    print('observed distribution is:')\n",
    "    print('-'*25)\n",
    "    print(observed_confounding)\n",
    "    print('-'*25)\n",
    "    chi2, p, dof, expected = chi2_contingency(observed_confounding)\n",
    "    if p > 0.05:\n",
    "        print(\"Confounding variable follows the same distribution in experiment and control.\")\n",
    "        print(\"Experiment results may be trusted...\")\n",
    "        return True\n",
    "    else:\n",
    "        print(\"Confounding variable does not follow the same distribution in experiment and control.\")\n",
    "        print(\"Experiment results may not be trusted!!!\")\n",
    "        return False            "
   ]
  },
  {
   "cell_type": "markdown",
   "metadata": {
    "slideshow": {
     "slide_type": "subslide"
    }
   },
   "source": [
    "<font color='teal'>Can we trust the results of the experiment?</font>\n",
    "- Results"
   ]
  },
  {
   "cell_type": "code",
   "execution_count": 33,
   "metadata": {
    "slideshow": {
     "slide_type": "fragment"
    }
   },
   "outputs": [
    {
     "name": "stdout",
     "output_type": "stream",
     "text": [
      "observed distribution is:\n",
      "-------------------------\n",
      "test             0      1\n",
      "country                  \n",
      "Algeria       9356  37377\n",
      "Andorra       3650   3697\n",
      "Belgium       8036   7859\n",
      "Cameroon     16869  16797\n",
      "Canada       27088  26972\n",
      "Congo        68317  68342\n",
      "Gabon         2660   2649\n",
      "Haiti         5550   5574\n",
      "Luxembourg    3419   3304\n",
      "Mauritius      415   3719\n",
      "Morocco       9853   9884\n",
      "Senegal       4361   4207\n",
      "Seychelles    1966   1985\n",
      "Switzerland  16149  15905\n",
      "Tunisia       7622   7503\n",
      "-------------------------\n",
      "Confounding variable does not follow the same distribution in experiment and control.\n",
      "Experiment results may not be trusted!!!\n"
     ]
    },
    {
     "data": {
      "text/plain": [
       "False"
      ]
     },
     "execution_count": 33,
     "metadata": {},
     "output_type": "execute_result"
    }
   ],
   "source": [
    "experiment_reliability_check(cleaned_test_id, 'country','user_id', 'test')"
   ]
  },
  {
   "cell_type": "markdown",
   "metadata": {
    "slideshow": {
     "slide_type": "slide"
    }
   },
   "source": [
    "## <font color='navy'> Conclusion</font>\n",
    "\n",
    "- An experiment had been performed for comparing the conversion rate between two version of the product, locally translated, and not locally translated.\n",
    "- Initial analysis showed that there is statistically/practically significant difference between two groups and the locally translated group have lower conversion rate.\n",
    "- Performing sanity check on experiment design showed several flows in radom assignment and blocking steps.\n",
    "- Checking the difference between control and experiment for different levels of confounding variable showed a minor/statistically insignificant drop in conversion rate."
   ]
  }
 ],
 "metadata": {
  "celltoolbar": "Slideshow",
  "kernelspec": {
   "display_name": "Python 3",
   "language": "python",
   "name": "python3"
  },
  "language_info": {
   "codemirror_mode": {
    "name": "ipython",
    "version": 3
   },
   "file_extension": ".py",
   "mimetype": "text/x-python",
   "name": "python",
   "nbconvert_exporter": "python",
   "pygments_lexer": "ipython3",
   "version": "3.6.4"
  }
 },
 "nbformat": 4,
 "nbformat_minor": 2
}
